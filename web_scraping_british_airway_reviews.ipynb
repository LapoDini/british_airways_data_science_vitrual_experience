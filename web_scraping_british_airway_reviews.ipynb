{
 "cells": [
  {
   "cell_type": "markdown",
   "metadata": {},
   "source": [
    "# Web Scraping\n",
    "In this notebook we collect the data from the site: https://www.airlinequality.com/.\n",
    "\n",
    "We used `BeautifulSoup` to parse the html page and to get data from reviews of British Airline and then create a DataFrame with `Pandas`. After that we save the DataFrame as a `.csv`"
   ]
  },
  {
   "cell_type": "markdown",
   "metadata": {},
   "source": [
    "## Scraping the SkyTrax site\n",
    "\n",
    "If we navigate the site https://www.airlinequality.com/, we can find British Airway reviews at the page https://www.airlinequality.com/airline-reviews/british-airways.\n",
    "Now we can use `python` and `BeautifulSoup` to collect reviews data."
   ]
  },
  {
   "cell_type": "code",
   "execution_count": 91,
   "metadata": {},
   "outputs": [],
   "source": [
    "# Import necessary library\n",
    "\n",
    "import pandas as pd\n",
    "import numpy as np\n",
    "from bs4 import BeautifulSoup\n",
    "import requests"
   ]
  },
  {
   "cell_type": "markdown",
   "metadata": {},
   "source": [
    "### Scrape Reviews\n",
    "\n",
    "We want to know what people say after flying with British Airway, so we scrap from the url: https://www.airlinequality.com/airline-reviews/british-airways.\n",
    "\n",
    "We use `requests` to get the raw data from the web page and then we parse the html document with `BeautifulSoup` to obtain reviews text.\n",
    "\n",
    "We will perform data cleaning and after that we will analyze those data to find insights."
   ]
  },
  {
   "cell_type": "code",
   "execution_count": 92,
   "metadata": {},
   "outputs": [],
   "source": [
    "# Setting base url, number of pages, and number of reviews for page\n",
    "base_url = \"https://www.airlinequality.com/airline-reviews/british-airways\"\n",
    "page_number = 35\n",
    "page_size = 100\n",
    "\n",
    "# We initialize an empty list to collect reviews\n",
    "reviews = []\n",
    "verified = []\n",
    "# Iterating on the number of pages \n",
    "for i in range(1, page_number + 1):\n",
    "    \n",
    "    #print('Scraping page: ', i)\n",
    "    # Url of the i page to scrap\n",
    "    url = f\"{base_url}/page/{i}/?sortby=post_date%3ADesc&pagesize={page_size}\"\n",
    "\n",
    "    # Use requests.get() to collect the content of the page\n",
    "    response = requests.get(url)\n",
    "\n",
    "    # Pick the content of the web page and create a BeautifulSoup object to parse the content\n",
    "    content = response.content\n",
    "    parsed_content = BeautifulSoup(content, \"html.parser\")\n",
    "    \n",
    "    # Iterate over the content of the page, picking all the div tag, to get the content of the reviews\n",
    "    for para in parsed_content.find_all(\"div\", {\"class\": \"text_content\"}):\n",
    "        \n",
    "        reviews.append(para.get_text())\n",
    "\n",
    "    #print(f\"------> {len(reviews)} total reviews\")\n"
   ]
  },
  {
   "cell_type": "code",
   "execution_count": 93,
   "metadata": {},
   "outputs": [
    {
     "data": {
      "text/plain": [
       "(                                             reviews\n",
       " 0  ✅ Trip Verified |  I was flying to Warsaw for ...\n",
       " 1  ✅ Trip Verified |  Booked a BA holiday to Marr...\n",
       " 2  ✅ Trip Verified | Extremely sub-par service. H...\n",
       " 3  ✅ Trip Verified |  I virtually gave up on Brit...\n",
       " 4  ✅ Trip Verified |  I was pleasantly surprised ...,\n",
       " 3427)"
      ]
     },
     "execution_count": 93,
     "metadata": {},
     "output_type": "execute_result"
    }
   ],
   "source": [
    "# Create a DataFrame form the reviews list\n",
    "df = pd.DataFrame()\n",
    "df[\"reviews\"] = reviews\n",
    "\n",
    "df.head(), len(df)"
   ]
  },
  {
   "cell_type": "code",
   "execution_count": 94,
   "metadata": {},
   "outputs": [],
   "source": [
    "# Save the DataFrame as a CSV file.\n",
    "df.to_csv(r\"..\\data\\reviews_data.csv\", index = False)"
   ]
  },
  {
   "cell_type": "markdown",
   "metadata": {},
   "source": [
    "### Scraping Rating Data\n",
    "\n",
    "After the reviews dataset, we will now want to know ratings of each review. We follow the previous steps but this time we need to define a bunch of function to do the job."
   ]
  },
  {
   "cell_type": "code",
   "execution_count": 95,
   "metadata": {},
   "outputs": [],
   "source": [
    "# Create lists to store values in the table\n",
    "\n",
    "Aircraft = []\n",
    "Type_Of_Traveller =[]\n",
    "Seat_Type = []\n",
    "Route = []\n",
    "Date_Flown = []\n",
    "Seat_Comfort = []\n",
    "Cabin_Staff_Service = []\n",
    "Food_Beverages = []\n",
    "Inflight_Entertainment = []\n",
    "Ground_Service = []\n",
    "Wifi_Connectivity = []\n",
    "Value_For_Money = []\n",
    "Recommended = []"
   ]
  },
  {
   "cell_type": "code",
   "execution_count": 96,
   "metadata": {},
   "outputs": [],
   "source": [
    "# Define a function to grab data from a page: \n",
    "\n",
    "def Get_Data_Form_Page(url):\n",
    "    \"\"\"\n",
    "    Get an HTML page, parse it and than search for table. Then fill up lists with values. NEED TO INITIALIZE THE LIST BEFORE CALLING. \n",
    "    Parameters\n",
    "    __________\n",
    "    url: url of the page to search\n",
    "    \"\"\"\n",
    "    \n",
    "    content_response = requests.get(url)\n",
    "    content = content_response.content\n",
    "    soup = BeautifulSoup(content, \"html.parser\")\n",
    "    tables = soup.find_all(\"table\")\n",
    "    \n",
    "    # Remove the first table that I don't know where it came from\n",
    "    del tables[0]\n",
    "\n",
    "    for table in tables:\n",
    "    \n",
    "        # Initalizing lists with NaN values\n",
    "        Aircraft.append(np.nan)\n",
    "        Type_Of_Traveller.append(np.nan)\n",
    "        Seat_Type.append(np.nan)\n",
    "        Route.append(np.nan)\n",
    "        Date_Flown.append(np.nan)\n",
    "        Seat_Comfort.append(np.nan)\n",
    "        Cabin_Staff_Service.append(np.nan)\n",
    "        Food_Beverages.append(np.nan)\n",
    "        Inflight_Entertainment.append(np.nan)\n",
    "        Ground_Service.append(np.nan)\n",
    "        Wifi_Connectivity.append(np.nan)\n",
    "        Value_For_Money.append(np.nan)\n",
    "        Recommended.append(np.nan)\n",
    "\n",
    "    # Grabing values for ratings points for a single table.\n",
    "        for row in table.find_all(\"tr\"):\n",
    "            header = row.find(\"td\", class_= \"review-rating-header\").text\n",
    "            value = row.find(\"td\", class_ = \"review-value\")\n",
    "\n",
    "        # Fill the list with values\n",
    "            if header == \"Aircraft\":\n",
    "                Aircraft[-1] = value.text\n",
    "        \n",
    "            elif header == \"Type Of Traveller\":\n",
    "                Type_Of_Traveller[-1] = value.text\n",
    "        \n",
    "            elif header == \"Seat Type\":\n",
    "                Seat_Type[-1] = value.text\n",
    "        \n",
    "            elif header == \"Route\":\n",
    "                Route[-1] = value.text\n",
    "        \n",
    "            elif header == \"Date Flown\":\n",
    "                Date_Flown[-1] = value.text\n",
    "        \n",
    "            elif header == \"Seat Comfort\":\n",
    "                Seat_Comfort[-1] = len(row.find_all(\"span\", class_= \"star fill\"))\n",
    "        \n",
    "            elif header == \"Cabin Staff Service\":\n",
    "                Cabin_Staff_Service[-1] = len(row.find_all(\"span\", class_= \"star fill\"))\n",
    "        \n",
    "            elif header == \"Food & Beverages\":\n",
    "                Food_Beverages[-1] = len(row.find_all(\"span\", class_= \"star fill\"))\n",
    "        \n",
    "            elif header == \"Inflight Entertainment\":\n",
    "                Inflight_Entertainment[-1] = len(row.find_all(\"span\", class_= \"star fill\"))\n",
    "        \n",
    "            elif header == \"Ground Service\":\n",
    "                Ground_Service[-1] = len(row.find_all(\"span\", class_= \"star fill\"))\n",
    "        \n",
    "            elif header == \"Wifi & Connectivity\":\n",
    "                Wifi_Connectivity[-1] = len(row.find_all(\"span\", class_= \"star fill\"))\n",
    "        \n",
    "            elif header == \"Value For Money\":\n",
    "                Value_For_Money[-1] = len(row.find_all(\"span\", class_= \"star fill\"))\n",
    "        \n",
    "            elif header == \"Recommended\":\n",
    "                Recommended[-1] = value.text\n",
    "    \n",
    "    return None"
   ]
  },
  {
   "cell_type": "code",
   "execution_count": 97,
   "metadata": {},
   "outputs": [],
   "source": [
    "def Get_Data(base_url, page_size = 100, n_pages = 10):\n",
    "\n",
    "    for i in range(1, page_number + 1):\n",
    "    \n",
    "        #print('Scraping page: ', i)\n",
    "        # Url of the i page to scrap\n",
    "        url = f\"{base_url}/page/{i}/?sortby=post_date%3ADesc&pagesize={page_size}\"\n",
    "\n",
    "        Get_Data_Form_Page(url)\n",
    "    return None"
   ]
  },
  {
   "cell_type": "code",
   "execution_count": 98,
   "metadata": {},
   "outputs": [],
   "source": [
    "base_url = \"https://www.airlinequality.com/airline-reviews/british-airways\"\n",
    "\n",
    "Get_Data(base_url, n_pages = 35)"
   ]
  },
  {
   "cell_type": "code",
   "execution_count": 99,
   "metadata": {},
   "outputs": [],
   "source": [
    "data_dict = {\"Aircraft\": Aircraft,\n",
    "    \"Type Of Traveller\":Type_Of_Traveller,\n",
    "    \"Seat Type\": Seat_Type,\n",
    "    \"Route\": Route,\n",
    "    \"Date Flown\": Date_Flown,\n",
    "    \"Seat Comfort\": Seat_Comfort,\n",
    "    \"Cabin Staff Service\": Cabin_Staff_Service,\n",
    "    \"Food & Beverages\": Food_Beverages,\n",
    "    \"Inflight Entertainment\": Inflight_Entertainment,\n",
    "    \"Ground Service\": Ground_Service,\n",
    "    \"Wifi & Connectivity\": Wifi_Connectivity,\n",
    "    \"Value For Money\": Value_For_Money,\n",
    "    \"Recommended\": Recommended}\n"
   ]
  },
  {
   "cell_type": "code",
   "execution_count": 100,
   "metadata": {},
   "outputs": [],
   "source": [
    "ratings = pd.DataFrame(data_dict)"
   ]
  },
  {
   "cell_type": "code",
   "execution_count": 101,
   "metadata": {},
   "outputs": [
    {
     "data": {
      "text/plain": [
       "3427"
      ]
     },
     "execution_count": 101,
     "metadata": {},
     "output_type": "execute_result"
    }
   ],
   "source": [
    "len(ratings)"
   ]
  },
  {
   "cell_type": "code",
   "execution_count": 102,
   "metadata": {},
   "outputs": [
    {
     "data": {
      "text/html": [
       "<div>\n",
       "<style scoped>\n",
       "    .dataframe tbody tr th:only-of-type {\n",
       "        vertical-align: middle;\n",
       "    }\n",
       "\n",
       "    .dataframe tbody tr th {\n",
       "        vertical-align: top;\n",
       "    }\n",
       "\n",
       "    .dataframe thead th {\n",
       "        text-align: right;\n",
       "    }\n",
       "</style>\n",
       "<table border=\"1\" class=\"dataframe\">\n",
       "  <thead>\n",
       "    <tr style=\"text-align: right;\">\n",
       "      <th></th>\n",
       "      <th>Aircraft</th>\n",
       "      <th>Type Of Traveller</th>\n",
       "      <th>Seat Type</th>\n",
       "      <th>Route</th>\n",
       "      <th>Date Flown</th>\n",
       "      <th>Seat Comfort</th>\n",
       "      <th>Cabin Staff Service</th>\n",
       "      <th>Food &amp; Beverages</th>\n",
       "      <th>Inflight Entertainment</th>\n",
       "      <th>Ground Service</th>\n",
       "      <th>Wifi &amp; Connectivity</th>\n",
       "      <th>Value For Money</th>\n",
       "      <th>Recommended</th>\n",
       "    </tr>\n",
       "  </thead>\n",
       "  <tbody>\n",
       "    <tr>\n",
       "      <th>0</th>\n",
       "      <td>Boeing 787-9</td>\n",
       "      <td>Business</td>\n",
       "      <td>Economy Class</td>\n",
       "      <td>Denver to London</td>\n",
       "      <td>December 2022</td>\n",
       "      <td>1.0</td>\n",
       "      <td>1.0</td>\n",
       "      <td>1.0</td>\n",
       "      <td>3.0</td>\n",
       "      <td>1.0</td>\n",
       "      <td>NaN</td>\n",
       "      <td>1</td>\n",
       "      <td>no</td>\n",
       "    </tr>\n",
       "    <tr>\n",
       "      <th>1</th>\n",
       "      <td>A320</td>\n",
       "      <td>Solo Leisure</td>\n",
       "      <td>Business Class</td>\n",
       "      <td>London to Marrakech</td>\n",
       "      <td>June 2022</td>\n",
       "      <td>3.0</td>\n",
       "      <td>5.0</td>\n",
       "      <td>5.0</td>\n",
       "      <td>NaN</td>\n",
       "      <td>4.0</td>\n",
       "      <td>NaN</td>\n",
       "      <td>3</td>\n",
       "      <td>yes</td>\n",
       "    </tr>\n",
       "    <tr>\n",
       "      <th>2</th>\n",
       "      <td>A380</td>\n",
       "      <td>Solo Leisure</td>\n",
       "      <td>Economy Class</td>\n",
       "      <td>San Francisco to London</td>\n",
       "      <td>November 2022</td>\n",
       "      <td>2.0</td>\n",
       "      <td>1.0</td>\n",
       "      <td>2.0</td>\n",
       "      <td>2.0</td>\n",
       "      <td>3.0</td>\n",
       "      <td>1.0</td>\n",
       "      <td>2</td>\n",
       "      <td>no</td>\n",
       "    </tr>\n",
       "    <tr>\n",
       "      <th>3</th>\n",
       "      <td>A320</td>\n",
       "      <td>Solo Leisure</td>\n",
       "      <td>Business Class</td>\n",
       "      <td>London to Lisbon</td>\n",
       "      <td>November 2022</td>\n",
       "      <td>3.0</td>\n",
       "      <td>4.0</td>\n",
       "      <td>4.0</td>\n",
       "      <td>NaN</td>\n",
       "      <td>3.0</td>\n",
       "      <td>NaN</td>\n",
       "      <td>3</td>\n",
       "      <td>yes</td>\n",
       "    </tr>\n",
       "    <tr>\n",
       "      <th>4</th>\n",
       "      <td>Boeing 787 / A320</td>\n",
       "      <td>Solo Leisure</td>\n",
       "      <td>Economy Class</td>\n",
       "      <td>Montreal to Edinburgh via London Heathrow</td>\n",
       "      <td>January 2022</td>\n",
       "      <td>4.0</td>\n",
       "      <td>4.0</td>\n",
       "      <td>4.0</td>\n",
       "      <td>4.0</td>\n",
       "      <td>4.0</td>\n",
       "      <td>NaN</td>\n",
       "      <td>4</td>\n",
       "      <td>yes</td>\n",
       "    </tr>\n",
       "  </tbody>\n",
       "</table>\n",
       "</div>"
      ],
      "text/plain": [
       "            Aircraft Type Of Traveller       Seat Type  \\\n",
       "0       Boeing 787-9          Business   Economy Class   \n",
       "1               A320      Solo Leisure  Business Class   \n",
       "2               A380      Solo Leisure   Economy Class   \n",
       "3               A320      Solo Leisure  Business Class   \n",
       "4  Boeing 787 / A320      Solo Leisure   Economy Class   \n",
       "\n",
       "                                       Route     Date Flown  Seat Comfort  \\\n",
       "0                           Denver to London  December 2022           1.0   \n",
       "1                        London to Marrakech      June 2022           3.0   \n",
       "2                    San Francisco to London  November 2022           2.0   \n",
       "3                           London to Lisbon  November 2022           3.0   \n",
       "4  Montreal to Edinburgh via London Heathrow   January 2022           4.0   \n",
       "\n",
       "   Cabin Staff Service  Food & Beverages  Inflight Entertainment  \\\n",
       "0                  1.0               1.0                     3.0   \n",
       "1                  5.0               5.0                     NaN   \n",
       "2                  1.0               2.0                     2.0   \n",
       "3                  4.0               4.0                     NaN   \n",
       "4                  4.0               4.0                     4.0   \n",
       "\n",
       "   Ground Service  Wifi & Connectivity  Value For Money Recommended  \n",
       "0             1.0                  NaN                1          no  \n",
       "1             4.0                  NaN                3         yes  \n",
       "2             3.0                  1.0                2          no  \n",
       "3             3.0                  NaN                3         yes  \n",
       "4             4.0                  NaN                4         yes  "
      ]
     },
     "execution_count": 102,
     "metadata": {},
     "output_type": "execute_result"
    }
   ],
   "source": [
    "ratings.head()"
   ]
  },
  {
   "cell_type": "code",
   "execution_count": 103,
   "metadata": {},
   "outputs": [],
   "source": [
    "df[\"Recommended\"] = ratings[\"Recommended\"]"
   ]
  },
  {
   "cell_type": "code",
   "execution_count": 104,
   "metadata": {},
   "outputs": [],
   "source": [
    "ratings.to_csv(r\"..\\data\\rating_data.csv\", index = False)"
   ]
  },
  {
   "cell_type": "code",
   "execution_count": 105,
   "metadata": {},
   "outputs": [],
   "source": [
    "df.to_csv(r\"..\\data\\reviews_data.csv\", index = False)"
   ]
  }
 ],
 "metadata": {
  "kernelspec": {
   "display_name": "Python 3.9.13 ('base')",
   "language": "python",
   "name": "python3"
  },
  "language_info": {
   "codemirror_mode": {
    "name": "ipython",
    "version": 3
   },
   "file_extension": ".py",
   "mimetype": "text/x-python",
   "name": "python",
   "nbconvert_exporter": "python",
   "pygments_lexer": "ipython3",
   "version": "3.9.13 (main, Aug 25 2022, 23:51:50) [MSC v.1916 64 bit (AMD64)]"
  },
  "orig_nbformat": 4,
  "vscode": {
   "interpreter": {
    "hash": "5a8d6d82c6bda336141dba18412d6a8eb9883704ce79f69ee1b98528c7fb3843"
   }
  }
 },
 "nbformat": 4,
 "nbformat_minor": 2
}
